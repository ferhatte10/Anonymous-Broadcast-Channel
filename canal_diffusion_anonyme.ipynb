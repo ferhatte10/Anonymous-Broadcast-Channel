{
 "cells": [
  {
   "cell_type": "markdown",
   "source": [
    "## Auteur\n",
    "- [**Ferhat SAIDOUN**](https://github.com/ferhatte10)\n",
    "- [**Zakaria RAJI**](https://github.com/RAJI-Zakaria)"
   ],
   "metadata": {
    "collapsed": false
   },
   "id": "594b02875be5549e"
  },
  {
   "cell_type": "markdown",
   "source": [
    "# TP 2 : Canal de diffusion anonyme et génération de secret"
   ],
   "metadata": {
    "collapsed": false
   },
   "id": "928c2ecd7e26d1fd"
  },
  {
   "cell_type": "markdown",
   "source": [
    "# 1 - Canal de diffusion anonyme"
   ],
   "metadata": {
    "collapsed": false
   },
   "id": "2bc3a452aa6f3b7"
  },
  {
   "cell_type": "markdown",
   "source": [
    "Pour cette première partie, vous devez écrire une classe qui simule un ca-nal de diffusion anonyme (de type forum) et permet de réaliser les opérations suivantes :\n",
    "1. Poster un message de manière anonyme. Votre fonction s’intitulant posterMessageAnonyme doit prendre en entrée une chaîne de caractères correspondant au message et le poster dans la structure qui servira le canal de diffusion anonyme. Libre à vous de choisir la struc-ture de données qui vous semble la plus appropriée pour implémenter le canal de diffusion anonyme. Le message posté doit aussi comporter une étiquette temporelle indiquant à quel moment le message a été diffusé (par exemple 16h39m25s). La structure de données que vous utilisez doit ordonner les messages chronologiquement en se basant sur cette étiquette temporelle.\n",
    "2. Lire une série de messages postées de manière anonyme. Votre fonction s’intitulant recupererMessagesAnonymes prendra comme arguments d’entrée deux étiquettes temporelles (une de début et une defin de période) et retournera la liste de tous les messages anonymes postés durant cette période."
   ],
   "metadata": {
    "collapsed": false
   },
   "id": "e9d9a96f5fe94e14"
  },
  {
   "cell_type": "code",
   "execution_count": null,
   "outputs": [],
   "source": [
    "import datetime\n",
    "import time\n",
    "import random\n",
    "import threading\n",
    "\n",
    "class CanalDiffusionAnonyme: # Classe pour simuler un canal de diffusion anonyme\n",
    "    def __init__(self): # Constructeur de la classe\n",
    "        self.messages = [] # Liste pour stocker les messages\n",
    "        self.lock = threading.Lock() # Verrou pour éviter les problèmes de concurrence\n",
    "\n",
    "    def posterMessageAnonyme(self, message): # Fonction pour poster un message de manière anonyme\n",
    "        timestamp = datetime.datetime.now().strftime(\"%Y-%m-%d %Hh%Mm%Ss\") # Étiquette temporelle\n",
    "        new_message = {\"message\": message, \"timestamp\": timestamp} # Création du message\n",
    "        with self.lock: # pour éviter les problèmes de concurrence\n",
    "            self.messages.append(new_message) # Ajout du message à la liste\n",
    "            self.messages = sorted(self.messages, key=lambda x: x[\"timestamp\"])  # trier par étiquette temporelle\n",
    "\n",
    "    def recupererMessagesAnonymes(self, debut, fin): # Fonction pour récupérer les messages postés de manière anonyme entre deux étiquettes temporelles\n",
    "        return [msg for msg in self.messages\n",
    "                                if debut <= msg[\"timestamp\"] <= fin] # Retourne les messages entre les deux étiquettes temporelles"
   ],
   "metadata": {
    "collapsed": false
   },
   "id": "1941c4cab95a9b31"
  },
  {
   "cell_type": "markdown",
   "source": [
    "## 2 - Génération de secret via canal de diffusion ano-nyme"
   ],
   "metadata": {
    "collapsed": false
   },
   "id": "770123ee2a708a"
  },
  {
   "cell_type": "markdown",
   "source": [
    "À partir simplement de la primitive du canal de diffusion anonyme, ilest possible de réaliser une génération de secret (à partir de rien) entre deuxentités tel que même si un adversaire passif prend lui aussi connaissance detous les messages il n’apprend aucune information sur le secret. Pour finsd’illustration, on va supposer que les deux entités se nomment Alice et Bob.Ils vont réaliser le protocole de génération de secret suivant :\n",
    "1. Alice tire aléatoirement à pile ou face un bitb\n",
    "2. Si le bitbvaut 0, elle construit un message comprenant le nom \"Alice\"et sinon pourb= 1elle construit un message comprenant le nom\"Bob\".\n",
    "3. Alice poste ce message de manière anonyme après un temps aléatoirepris au hasard dans une certaine fourchette (par exemple entre 1 et10ms)\n",
    "4. Alice recommence à partir de l’étape 1.\n",
    "\n",
    "Du côté de Bob il réalise en parallèle le même protocole à la différence prèsque ses réactions sont inversées, sib= 0il construit un message comprenantle nom \"Bob\" et sinon sib= 1son message sera \"Alice\"\n",
    "\n",
    "On suppose qu’Alice et Bob gardent chacun une liste de messages qu’ils ont envoyées (avec les étiquettes temporelles correspondantes). Le protocolese déroule pendant une certaine période (par exemple 1 minute) dont le moment de début et la durée ont pu être négociées par Alice et Bob aupréalable par exemple en utilisant le canal de diffusion anonyme.\n",
    "Après que cette période se soit écoulée, Alice et Bob extraient le secret (qui correspondra à une chaîne de bits) de la manière suivante. Ils regardent les messages dans l’ordre chronologique (on suppose par exemple quele nombre de messages est n). Pour chaque message d’indexisi le messagecontient le texte \"Alice\" et qu’il a vraiment été envoyé par Alice alorssi,le bit secret généré, vaudra 0 (même chose si le message contient le texte\"Bob\" et qu’il a vraiment été envoyé par Bob). À l’opposé si le messagecontient le texte \"Alice\" mais qu’il a été envoyé par Bob alorssivaudra 1(même chose si chose si le message contient le texte \"Bob\" mais qu’il a étéenvoyé par Alice). Une fois être passé à travers les n messages Alice et Bob se retrouvent en possession d’un secrets sous la forme d’une chaîne aléatoire de n bits.\n",
    "\n",
    "Pour implémenter cette deuxième partie, vous devez écrire deux fonctionsqui réalisent les opérations suivantes :\n",
    "1. Génération de secret en utilisant le canal de diffusion anonyme. Votre fonction s’intitulant generer Secret doit simuler le protocole de généra-tion de secret tel que décrit plus haut en utilisant le canal de diffusion anonyme que vous avez implémenté dans la partie 1. Cette fonctionprendre en entrée au moins trois paramètres, deux chaînes de carac-tère représentant le nom des interlocuteurs (par exemple \"Alice\" et\"Bob\" dans l’exemple ci-dessus) ainsi que la durée pendant laquelle ils doivent réaliser ce protocole.\n",
    "\n"
   ],
   "metadata": {
    "collapsed": false
   },
   "id": "c9b547824c3402dc"
  },
  {
   "cell_type": "code",
   "execution_count": null,
   "outputs": [],
   "source": [
    "# 1. Génération de secret en utilisant le canal de diffusion anonyme\n",
    "\n",
    "def genererSecret(canalAnonyme, nom_Alice, nom_Bob, duree): # Fonction pour générer un secret en utilisant le canal de diffusion anonyme\n",
    "    debut = datetime.datetime.now() # Début du protocole\n",
    "    fin = debut + datetime.timedelta(seconds=duree) # Fin du protocole\n",
    "\n",
    "    vues_Alice = []  # Liste pour stocker les vues d'Alice\n",
    "    vues_Bob = []  # Liste pour stocker les vues de Bob\n",
    "\n",
    "    def process_person(person_sender, person_dist, views_Alice_list, views_Bob_list): # Fonction pour simuler le protocole de génération de secret\n",
    "        while datetime.datetime.now() < fin: # Tant que le protocole n'est pas terminé\n",
    "            bit_person = random.randint(0, 1) # Tire aléatoirement un bit (0 ou 1)\n",
    "            if bit_person == 0: # Si le bit est 0\n",
    "                message_person = f\"{person_sender}\" # Le message contient le nom de l'expéditeur\n",
    "            else: # Si le bit est 1\n",
    "                message_person = f\"{person_dist}\" # Le message contient le nom du destinataire\n",
    "            time.sleep(random.uniform(0.001, 0.01)) # Attend un temps aléatoire entre 1 et 10 ms\n",
    "            canalAnonyme.posterMessageAnonyme(message_person) # Poste le message de manière anonyme\n",
    "\n",
    "            # Ajouter la vue correspondante pour chaque participant\n",
    "            if person_sender == nom_Alice: # Si l'expéditeur est Alice\n",
    "                views_Alice_list.append(True)  # Ajoute True à la vue d'Alice\n",
    "                views_Bob_list.append(False)  # Ajoute False à la vue de Bob\n",
    "            else: # Si l'expéditeur est Bob\n",
    "                views_Alice_list.append(False)  # Ajoute False à la vue d'Alice\n",
    "                views_Bob_list.append(True)  # Ajoute True à la vue de Bob\n",
    "\n",
    "    thread_alice = threading.Thread(target=process_person, args=(nom_Alice, nom_Bob, vues_Alice, vues_Bob)) # Création d'un thread pour Alice\n",
    "    thread_bob = threading.Thread(target=process_person, args=(nom_Bob, nom_Alice, vues_Alice, vues_Bob)) # Création d'un thread pour Bob\n",
    "\n",
    "    thread_alice.start() # Démarrage du thread d'Alice\n",
    "    thread_bob.start() # Démarrage du thread de Bob\n",
    "\n",
    "    thread_alice.join() # Attente de la fin du thread d'Alice\n",
    "    thread_bob.join() # Attente de la fin du thread de Bob\n",
    "\n",
    "    # Récupérer les messages postés pendant la durée du protocole\n",
    "    messages_postes = canalAnonyme.recupererMessagesAnonymes(debut.strftime(\"%Y-%m-%d %Hh%Mm%Ss\"), fin.strftime(\"%Y-%m-%d %Hh%Mm%Ss\")) # Récupère les messages postés pendant la durée du protocole (entre le début et la fin)\n",
    "\n",
    "    return messages_postes, vues_Alice, vues_Bob  # Retourne les messages postés, les messages générés, les vues d'Alice et les vues de Bob  "
   ],
   "metadata": {
    "collapsed": false
   },
   "id": "d965fd0cd14669d4"
  },
  {
   "cell_type": "markdown",
   "source": [
    "2. Extraction de secret. Votre fonction s’intitulant extraireSecret doit permettre à partir d’un transcript de messages obtenu suite à l’application de genererSecret combiné avec la vue partielle des deux entités d’extraire un secret commun. Le secret sera de taille n, le nombre de messages du transcript.\n",
    "\n",
    "Il vous est aussi demandé d’écrire un court programme qui implémente un scénario servant à tester les différentes fonctions que vous aurez écrit durant ce TP."
   ],
   "metadata": {
    "collapsed": false
   },
   "id": "762d3cca94ceef5e"
  },
  {
   "cell_type": "code",
   "execution_count": 60,
   "outputs": [],
   "source": [
    "# 2. Extraction de secret à partir d'un transcript de messages\n",
    "def extraireSecret(transcript_messages, views_Alice, views_Bob): # Fonction pour extraire le secret à partir d'un transcript de messages\n",
    "    secret = \"\"  # Initialise le secret comme une chaîne vide\n",
    "\n",
    "    if len(transcript_messages) != len(views_Alice) or len(transcript_messages) != len(views_Bob): # Vérifie si les longueurs des vues correspondent à la longueur du transcript\n",
    "        print(\"Erreur: Les longueurs des vues ne correspondent pas à la longueur du transcript\")\n",
    "        return None  # Sortie de la fonction en cas d'erreur de taille\n",
    "\n",
    "    # Parcourt les messages, la vue d'Alice et la vue de Bob\n",
    "    for i in range(len(transcript_messages)): # Pour chaque message\n",
    "        message = transcript_messages[i][\"message\"] # Récupère le message\n",
    "        alice_view = views_Alice[i] # Récupère la vue d'Alice\n",
    "        bob_view = views_Bob[i] # Récupère la vue de Bob\n",
    "        # Vérifie si le message correspond à la vue d'Alice et de Bob\n",
    "        if alice_view and bob_view:  # Si les deux vues sont vraies\n",
    "            print(\"Erreur: Le message ne peut pas correspondre aux deux vues\")\n",
    "            return None  # Sortie de la fonction en cas d'erreur de vue\n",
    "        elif alice_view and not bob_view:  # Vue d'Alice uniquement\n",
    "            if \"Alice\" in message:\n",
    "                secret += \"0\"\n",
    "            elif \"Bob\" in message:\n",
    "                secret += \"1\"\n",
    "        elif bob_view and not alice_view:  # Vue de Bob uniquement\n",
    "            if \"Alice\" in message:\n",
    "                secret += \"1\"\n",
    "            elif \"Bob\" in message:\n",
    "                secret += \"0\"\n",
    "        else:\n",
    "            # Gère les autres cas si nécessaire\n",
    "            pass\n",
    "    return secret  # Retourne le secret extrait"
   ],
   "metadata": {
    "collapsed": false,
    "ExecuteTime": {
     "end_time": "2023-11-27T03:42:28.191407400Z",
     "start_time": "2023-11-27T03:42:28.182388500Z"
    }
   },
   "id": "8e9b0fb00dc819f2"
  },
  {
   "cell_type": "markdown",
   "source": [
    "# Programme principal\n",
    "La fonction main ci-dessous permet de tester les fonctions précédentes."
   ],
   "metadata": {
    "collapsed": false
   },
   "id": "f00f9c7b2233043e"
  },
  {
   "cell_type": "code",
   "execution_count": 67,
   "outputs": [
    {
     "name": "stdout",
     "output_type": "stream",
     "text": [
      "Messages postés: ['Alice', 'Bob', 'Bob', 'Bob', 'Alice']\n",
      "Vues d'Alice: [True, False, False, True, True]\n",
      "Vues de Bob: [False, True, True, False, False]\n",
      "Secret extrait: 00010\n"
     ]
    }
   ],
   "source": [
    "def main(): # Exemple d'utilisation \n",
    "    canal = CanalDiffusionAnonyme() # Création d'un canal de diffusion anonyme\n",
    "    nom1 = \"Alice\" # Nom de la première entité\n",
    "    nom2 = \"Bob\" # Nom de la deuxième entité\n",
    "    duree_protocole = 1 # Durée du protocole en secondes\n",
    "    \n",
    "    messages,view_Alice, view_Bob = genererSecret(canal, nom1, nom2, duree_protocole) # Génération du secret\n",
    "    \n",
    "    secret = extraireSecret(messages, view_Alice, view_Bob) # Extraction du secret\n",
    "    \n",
    "    # Affichage des résultats obtenus sur les 5 premiers messages pour vérifier le bon fonctionnement du protocole\n",
    "    print(\"Messages postés:\", list(map(lambda x: x[\"message\"], messages))[:5])\n",
    "    print(\"Vues d'Alice:\", view_Alice[:5]) # Affichage des vues d'Alice\n",
    "    print(\"Vues de Bob:\", view_Bob[:5]) # Affichage des vues de Bob\n",
    "    print(\"Secret extrait:\", secret[:5]) # Affichage du secret extrait\n",
    "    \n",
    "if __name__ == \"__main__\":\n",
    "    main()"
   ],
   "metadata": {
    "collapsed": false,
    "ExecuteTime": {
     "end_time": "2023-11-27T03:43:05.006423700Z",
     "start_time": "2023-11-27T03:43:03.975633400Z"
    }
   },
   "id": "4207765835b9800a"
  },
  {
   "cell_type": "markdown",
   "source": [
    "# Rapport : Applications et Sécurité des Canaux de Diffusion Anonyme\n",
    "\n",
    "## Applications du Canal de Diffusion Anonyme\n",
    "\n",
    "Le canal de diffusion anonyme est une structure cruciale avec de multiples applications au-delà de la simple diffusion de messages. Deux autres utilisations possibles sont :\n",
    "\n",
    "- **Votations et Sondages Anonymes :** Le canal de diffusion anonyme pourrait servir à organiser des votations électorales ou des sondages en garantissant l'anonymat des votants. Les participants pourraient soumettre leurs votes ou opinions sans révéler leur identité, garantissant ainsi l'intégrité du processus.\n",
    "\n",
    "- **Plateforme de Signalement Anonyme :** Il pourrait être utilisé comme une plateforme sécurisée pour les dénonciations anonymes. Les utilisateurs pourraient signaler des problèmes de sécurité, des comportements inappropriés ou des incidents sans craindre de représailles, assurant la confidentialité et la sécurité des informateurs.\n",
    "\n",
    "## Sécurité du Protocole entre Alice et Bob\n",
    "\n",
    "Le protocole de génération de secret décrit dans la deuxième partie permet à Alice et Bob de créer un secret commun sans révéler d'informations exploitables à un adversaire passif. Ceci est dû à plusieurs raisons :\n",
    "\n",
    "- **Anonymat des Messages :** Les messages sont postés de manière aléatoire et anonyme par Alice et Bob. Même si l'adversaire surveille les messages, il ne peut pas associer de manière fiable les messages à un expéditeur spécifique.\n",
    "\n",
    "- **Impossibilité de Corrélation :** Le secret est généré en utilisant des messages anonymes et des vues distinctes. Les vues ne permettent pas à l'adversaire de corréler les actions d'Alice et de Bob, rendant impossible la déduction du secret à partir des seuls messages observés.\n",
    "\n",
    "- **Indépendance des Vues :** Les vues d'Alice et de Bob sont indépendantes et ne fournissent pas d'informations sur les actions de l'autre partie. Même si l'adversaire a une vue sur les messages, il ne peut pas reconstituer le secret sans les vues des deux entités.\n",
    "\n",
    "## Importance des Primitives de Génération de Secret Commun\n",
    "\n",
    "Avoir des primitives permettant à deux entités de générer un secret commun à travers un canal potentiellement surveillé est crucial pour la sécurité des communications sensibles. Cela garantit que même si le canal de communication est compromis ou surveillé par un adversaire, les entités légitimes peuvent toujours créer et partager des secrets sans compromettre leur confidentialité et leur sécurité.\n"
   ],
   "metadata": {
    "collapsed": false
   },
   "id": "c97a48bd8372ce23"
  }
 ],
 "metadata": {
  "kernelspec": {
   "display_name": "Python 3",
   "language": "python",
   "name": "python3"
  },
  "language_info": {
   "codemirror_mode": {
    "name": "ipython",
    "version": 2
   },
   "file_extension": ".py",
   "mimetype": "text/x-python",
   "name": "python",
   "nbconvert_exporter": "python",
   "pygments_lexer": "ipython2",
   "version": "2.7.6"
  }
 },
 "nbformat": 4,
 "nbformat_minor": 5
}
